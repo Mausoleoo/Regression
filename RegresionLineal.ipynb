{
 "cells": [
  {
   "cell_type": "code",
   "execution_count": 1,
   "metadata": {},
   "outputs": [],
   "source": [
    "def MakeOne(aux,i,n): #i es Donde inicia, n es hasta donde lo hace\n",
    "    for k in range(i,n):\n",
    "        auxRow = aux[k][:]\n",
    "        aux[k][:] = auxRow/aux[k][i]\n",
    "    return aux"
   ]
  },
  {
   "cell_type": "code",
   "execution_count": 2,
   "metadata": {},
   "outputs": [],
   "source": [
    "def Substract(aux,i,n): #i es Donde inicia, n es hasta donde lo hace\n",
    "    for k in range(i,n):\n",
    "        auxRow = aux[k][:] - aux[i-1][:]\n",
    "        aux[k][:] = auxRow\n",
    "    return aux"
   ]
  },
  {
   "cell_type": "code",
   "execution_count": 3,
   "metadata": {},
   "outputs": [],
   "source": [
    "def Betas(mat,n):\n",
    "    Betas = np.zeros([n+1,1])\n",
    "    Betas[n] = 1\n",
    "    for i in range(n-1,-1,-1):\n",
    "        for j in range(n,i,-1):\n",
    "            Betas[i] += mat[i][j] * Betas[j]\n",
    "            #print(mat[i][j],B[j])\n",
    "        Betas[i] *= (-1)\n",
    "    #Betas[n] = (mat[n+1][n])\n",
    "    return Betas\n"
   ]
  },
  {
   "cell_type": "code",
   "execution_count": 4,
   "metadata": {},
   "outputs": [],
   "source": [
    "def Change_column_tensor(Mat, your_permutation): #Cambiar renglones para comparar si ya existen\n",
    "    idx = np.empty_like(your_permutation)\n",
    "    idx[:][:][your_permutation] = np.arange(len(your_permutation))\n",
    "    return Mat[:,:, idx]"
   ]
  },
  {
   "cell_type": "code",
   "execution_count": 5,
   "metadata": {},
   "outputs": [],
   "source": [
    "def Derivative(mat,bet): #mat es con binomios desarrollados  \n",
    "    derBet = []\n",
    "    for i in range(0,mat.shape[0]):\n",
    "        for j in range(0,mat.shape[1]):\n",
    "            if (mat[i][j][0] == 0 and mat[i][j][1] == 0 and mat[i][j][2] == 0):\n",
    "                #print(\"Sin valores\",mat[i][j])\n",
    "                continue\n",
    "                #break\n",
    "            elif (mat[i][j][1] == float(bet) and float(bet)== mat[i][j][2]):\n",
    "                #print(\"Variable al Cuadrado \",mat[i][j],\" 2*mat[i][j][0],k,0\")\n",
    "                derBet.append(2*mat[i][j][0]) #[2*mat[i][j][0],mat[i][j][1],0]\n",
    "                #break\n",
    "            elif (mat[i][j][1] == float(bet) and mat[i][j][2] != -1.):\n",
    "                #print(\"Una variable distinta \",mat[i][j],\" mat[i][j][0],0,mat[i][j][2]\")\n",
    "                derBet.append(mat[i][j][0]) #[mat[i][j][0],0,mat[i][j][2]]\n",
    "                #break\n",
    "            elif (mat[i][j][2] == float(bet) and mat[i][j][1] != -1.):\n",
    "                #print(\"Una variable distinta \",mat[i][j], \" mat[i][j][0],mat[i][j][1],0\")\n",
    "                derBet.append(mat[i][j][0]) #[mat[i][j][0],mat[i][j][1],0]\n",
    "                #break\n",
    "            elif (mat[i][j][1] == float(bet) and mat[i][j][2] == -1.):\n",
    "                #print(\"Solo la primer variable \",mat[i][j],\"-- mat[i][j][0],0,0\")\n",
    "                derBet.append(-mat[i][j][0]) #[-mat[i][j][0],0,0]\n",
    "                #break\n",
    "            elif (mat[i][j][2] == float(bet) and mat[i][j][1] == -1.):\n",
    "                #print(\"Solo la segunda variable \",mat[i][j],\"-- mat[i][j][0],0,0\")\n",
    "                derBet.append(-mat[i][j][0]) #[-mat[i][j][0],0,0]\n",
    "                #break\n",
    "            elif (mat[i][j][2] == -1. and mat[i][j][1] == -1.):\n",
    "                #print(\"Sin Variables \",mat[i][j], \"0,0,0\")\n",
    "                continue\n",
    "    return np.array(derBet)\n"
   ]
  },
  {
   "cell_type": "code",
   "execution_count": 6,
   "metadata": {},
   "outputs": [],
   "source": [
    "def pre_Derivative(EquTotal, num):\n",
    "    Mat = np.zeros((num,num+1))\n",
    "    for i in range(0,num): #b numero columnas de matriz de ingreso que es iguala  al num de betas total\n",
    "        Mat[i] = Derivative(EquTotal,i)\n",
    "    return Mat"
   ]
  },
  {
   "cell_type": "code",
   "execution_count": 7,
   "metadata": {},
   "outputs": [],
   "source": [
    "def Change_column_matrix(Mat, your_permutation): #Cambiar renglones para comparar si ya existen\n",
    "    idx = np.empty_like(your_permutation)\n",
    "    idx[:][:][your_permutation] = np.arange(len(your_permutation))\n",
    "    return Mat[:, idx]"
   ]
  },
  {
   "cell_type": "code",
   "execution_count": 8,
   "metadata": {},
   "outputs": [],
   "source": [
    "def left_shift_column(Mat): #Rotar las columnas a la izquierda\n",
    "    left_shift = np.zeros(Mat.shape[1])\n",
    "    for i in range(0,Mat.shape[1]):\n",
    "        left_shift[i] = i-1\n",
    "    left_shift = left_shift.astype(int)\n",
    "    Mat_Total = Change_column_matrix(Mat,list(left_shift))\n",
    "    #print(Mat_Total)\n",
    "    return Mat_Total"
   ]
  },
  {
   "cell_type": "code",
   "execution_count": 9,
   "metadata": {},
   "outputs": [],
   "source": [
    "def EquationSolver(mat,n): #n - numero de columnas, mat - Matriz que es el sistema de ecuaciones a resolver\n",
    "    aux = mat\n",
    "    for i in range(n-1):\n",
    "        aux = MakeOne(aux,i,n)\n",
    "        aux = Substract(aux,i+1,n)\n",
    "    aux = MakeOne(aux,n-1,n)\n",
    "    Beta = Betas(aux,n)\n",
    "    return Beta\n",
    "\n",
    "\n",
    "#El sistema ya resuelve \n",
    "#B[n] está de mas "
   ]
  },
  {
   "cell_type": "code",
   "execution_count": 10,
   "metadata": {},
   "outputs": [],
   "source": [
    "def Linear_Regression_Least_Square(mat):\n",
    "    #print(mat.shape)\n",
    "    mat_dev = Quadratic_Equation(mat)\n",
    "    #print(mat)\n",
    "    Mat = pre_Derivative(mat_dev,mat.shape[1])\n",
    "    #print(Mat)\n",
    "    Mat_Total = left_shift_column(Mat)\n",
    "    #print(Mat_Total)\n",
    "    Bet = EquationSolver(Mat_Total,Mat_Total.shape[0])\n",
    "    return Bet\n"
   ]
  },
  {
   "cell_type": "code",
   "execution_count": 11,
   "metadata": {},
   "outputs": [],
   "source": [
    "def Quadratic_Equation(Input_Matrix):\n",
    "    Equ = np.zeros((Input_Matrix.shape[0],Input_Matrix.shape[1]+1)) #Crear matrix con dimensiones especificas\n",
    "    for i in range(2,Input_Matrix.shape[1]+1):\n",
    "        Equ.T[i] = Input_Matrix.T[i-2]\n",
    "    Equ.T[0] = Input_Matrix.T[-1]\n",
    "    Equ.T[1] = np.ones(Input_Matrix.shape[0])\n",
    "    EquAux = np.zeros((Input_Matrix.shape[0] ,Input_Matrix.shape[1] + 1,3))\n",
    "    for j in range(0,Input_Matrix.shape[1]+1):\n",
    "        for i in range(0,Equ.shape[1]):  #Hacer Operaciones entre Betas\n",
    "            if (i!=j):\n",
    "                aux = sum(Equ.T[j]*Equ.T[i]*2)\n",
    "                #aux = 1\n",
    "                EquAux[j][i] = [aux,int(i-1),int(j-1)]\n",
    "                #print(Equ.T[j],Equ.T[i])\n",
    "            else:\n",
    "                aux = sum(Equ.T[j]*Equ.T[i])\n",
    "                #aux = 1\n",
    "                #print(Equ.T[j],Equ.T[i])\n",
    "                EquAux[j][i] = [aux,int(i-1),int(j-1)]\n",
    "    EquAux2 = Change_column_tensor(EquAux,[0,2,1])\n",
    "    for i in range(0,EquAux.shape[0]): #Funcion quitar Elemntos repetidos\n",
    "        for j in range(0,EquAux.shape[1]):\n",
    "            for k in range(0,EquAux.shape[0]):\n",
    "                for h in range(0,EquAux.shape[1]):\n",
    "                    comparison = EquAux[i][j] == EquAux2[k][h]\n",
    "                    if (comparison.all()==True):\n",
    "                        EquAux2[i][j] = [0,0,0]\n",
    "    EquAux2 = Change_column_tensor(EquAux2,[0,2,1])\n",
    "    EquTotal = EquAux - EquAux2\n",
    "    return EquTotal"
   ]
  },
  {
   "cell_type": "code",
   "execution_count": 18,
   "metadata": {
    "scrolled": true
   },
   "outputs": [
    {
     "name": "stdout",
     "output_type": "stream",
     "text": [
      "[[ 8.1898575 ]\n",
      " [-2.8030176 ]\n",
      " [ 2.64920369]\n",
      " [ 1.        ]]\n",
      "0.0\n",
      "0.007995367050170898\n"
     ]
    }
   ],
   "source": [
    "from time import time\n",
    "import numpy as np\n",
    "mat = np.array([[1,2,10],[5,4,5],[10,12,15],[15,17,7],[20,22,12]])\n",
    "#mat = np.array([[1,10],[5,5],[10,15],[15,7],[20,12]])\n",
    "#mat = np.array([[1,2,10,6,5],[5,4,5,6,5],[10,12,15,10,10],[15,17,7,9,11],[20,22,12,14,14],[22,24,15,12,13]])\n",
    "#mat = np.random.randn(100,10)\n",
    "tiempo_1 = time()\n",
    "tiempo_inicial = time()\n",
    "print(Linear_Regression_Least_Square(mat))\n",
    "\n",
    "tiempo_final = time() \n",
    "tiempo_mat = tiempo_inicial - tiempo_1\n",
    "tiempo_ejecucion = tiempo_final - tiempo_inicial\n",
    "print(tiempo_mat)\n",
    "print(tiempo_ejecucion)"
   ]
  }
 ],
 "metadata": {
  "kernelspec": {
   "display_name": "Python 3",
   "language": "python",
   "name": "python3"
  },
  "language_info": {
   "codemirror_mode": {
    "name": "ipython",
    "version": 3
   },
   "file_extension": ".py",
   "mimetype": "text/x-python",
   "name": "python",
   "nbconvert_exporter": "python",
   "pygments_lexer": "ipython3",
   "version": "3.7.6rc1"
  }
 },
 "nbformat": 4,
 "nbformat_minor": 2
}
